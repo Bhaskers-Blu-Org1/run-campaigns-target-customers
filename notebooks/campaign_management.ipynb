{
 "cells": [
  {
   "cell_type": "markdown",
   "metadata": {},
   "source": [
    "# Run marketing campaigns on target customer segments \n",
    "### <font color='blue'>Integrate with Watson Campaign Automation.</font>"
   ]
  },
  {
   "cell_type": "markdown",
   "metadata": {},
   "source": [
    "## 1. Setup\n",
    "To prepare your environment, you need to install some packages.\n",
    "\n",
    "### 1.1 Install the necessary packages\n",
    "\n",
    "You need the latest versions of these packages:<br>\n",
    "- ibm-cos-sdk: is a client for the Cloud Object Storage.<br>\n",
    "\n",
    "** Install the cloud object storage client: **"
   ]
  },
  {
   "cell_type": "code",
   "execution_count": null,
   "metadata": {
    "scrolled": true
   },
   "outputs": [],
   "source": [
    "!pip install ibm-cos-sdk"
   ]
  },
  {
   "cell_type": "markdown",
   "metadata": {},
   "source": [
    "### 1.2 Import packages and libraries\n",
    "\n",
    "Import the packages and libraries that you'll use:"
   ]
  },
  {
   "cell_type": "code",
   "execution_count": null,
   "metadata": {},
   "outputs": [],
   "source": [
    "import ibm_boto3\n",
    "import pandas as pd\n",
    "from botocore.client import Config\n",
    "import types,requests, json\n",
    "import datetime"
   ]
  },
  {
   "cell_type": "markdown",
   "metadata": {},
   "source": [
    "## 2 Configure and access data files from Cloud Object Storage"
   ]
  },
  {
   "cell_type": "markdown",
   "metadata": {},
   "source": [
    "### 2.1 Insert credentials"
   ]
  },
  {
   "cell_type": "code",
   "execution_count": null,
   "metadata": {},
   "outputs": [],
   "source": [
    "# @hidden_cell\n",
    "# The following code contains the credentials for a file in your IBM Cloud Object Storage.\n",
    "# You might want to remove those credentials before you share your notebook.\n",
    "credentials_1 = {\n",
    "    'IBM_API_KEY_ID': '',\n",
    "    'IAM_SERVICE_ID': '',\n",
    "    'ENDPOINT': '',\n",
    "    'IBM_AUTH_ENDPOINT': '',\n",
    "    'BUCKET': '',\n",
    "    'FILE': ''\n",
    "}\n"
   ]
  },
  {
   "cell_type": "markdown",
   "metadata": {},
   "source": [
    "### 2.2 Functions to work with Cloud Object Storage"
   ]
  },
  {
   "cell_type": "code",
   "execution_count": null,
   "metadata": {},
   "outputs": [],
   "source": [
    "cos = ibm_boto3.client('s3',\n",
    "                    ibm_api_key_id=credentials_1['IBM_API_KEY_ID'],\n",
    "                    ibm_service_instance_id=credentials_1['IAM_SERVICE_ID'],\n",
    "                    ibm_auth_endpoint=credentials_1['IBM_AUTH_ENDPOINT'],\n",
    "                    config=Config(signature_version='oauth'),\n",
    "                    endpoint_url=credentials_1['ENDPOINT'])\n",
    "\n",
    "def get_file(filename):\n",
    "    '''Retrieve file from Cloud Object Storage'''\n",
    "    fileobject = cos.get_object(Bucket=credentials_1['BUCKET'], Key=credentials_1['FILE'])['Body']\n",
    "    return fileobject\n",
    "\n",
    "def load_string(fileobject):\n",
    "    '''Load the file contents into a Python string'''\n",
    "    text = fileobject.read()\n",
    "    return text\n",
    "\n",
    "def put_file(filename, filecontents):\n",
    "    '''Write file to Cloud Object Storage'''\n",
    "    resp = cos.put_object(Bucket=credentials_1['BUCKET'], Key=filename, Body=filecontents)\n",
    "    return resp\n",
    "\n",
    "def __iter__(self): return 0"
   ]
  },
  {
   "cell_type": "markdown",
   "metadata": {},
   "source": [
    "## 3. Configure and run campaigns on Watson Campaign Automation"
   ]
  },
  {
   "cell_type": "markdown",
   "metadata": {},
   "source": [
    "### 3.1 Configure access url, client id, client secret, refresh token and access token for Watson Campaign Automation"
   ]
  },
  {
   "cell_type": "code",
   "execution_count": null,
   "metadata": {},
   "outputs": [],
   "source": [
    "# URL to invoke to generate access token\n",
    "access_token_url = '<BASE_URL>/oauth/token'\n",
    " \n",
    "# Specify client id, client secret, refresh token\n",
    "data = {'client_id':'',\n",
    "        'client_secret':'',\n",
    "        'refresh_token':'',\n",
    "        'grant_type':'refresh_token'}\n",
    " \n",
    "# Invoke Watson Campaign Automation to generate access token    \n",
    "r = requests.post(url = access_token_url, data = data)\n",
    "access_token = json.loads(r.text)[\"access_token\"]"
   ]
  },
  {
   "cell_type": "markdown",
   "metadata": {},
   "source": [
    "### 3.2 Functions to add contacts and run e-mail campaigns on Watson Campaign Automation"
   ]
  },
  {
   "cell_type": "code",
   "execution_count": null,
   "metadata": {},
   "outputs": [],
   "source": [
    "# XML API url\n",
    "xmlapiurl = '<BASE_URL>/XMLAPI'\n",
    "\n",
    "# requuest headers\n",
    "headers = {'Content-Type': 'text/xml', 'Authorization': 'Bearer ' + access_token, 'Accept':'text/html,application/xhtml+xml,application/xml'}\n",
    "\n",
    "# Database ID\n",
    "databaseid = 88308\n",
    "\n",
    "# Contact List ID for running campaigns\n",
    "campaignlistid = 88309\n",
    "\n",
    "# Template ID\n",
    "templateid = 461421\n",
    "\n",
    "# Product to run campaign\n",
    "product = 'Canned Foods'\n",
    "\n",
    "def add_contact(emailid, databaseid, campaignlistid):\n",
    "    addcontactxml =\"\"\"<Envelope>\n",
    "                      <Body>\n",
    "                          <AddRecipient>\n",
    "                             <LIST_ID>\"\"\"+databaseid +\"\"\"</LIST_ID>\n",
    "                             <CREATED_FROM>1</CREATED_FROM>\n",
    "                             <CONTACT_LISTS>\n",
    "                                <CONTACT_LIST_ID>\"\"\"+campaignlistid+\"\"\"</CONTACT_LIST_ID>\n",
    "                              </CONTACT_LISTS>\n",
    "                             <COLUMN>\n",
    "                               <NAME>EMAIL</NAME>\n",
    "                               <VALUE>\"\"\"+emailid+\"\"\"</VALUE>\n",
    "                             </COLUMN>\n",
    "                          </AddRecipient>\n",
    "                       </Body>\n",
    "                    </Envelope>\"\"\"\n",
    "    print (addcontactxml)\n",
    "    response = requests.post(xmlapiurl, headers=headers, data = addcontactxml)\n",
    "    print(response.text)\n",
    "    \n",
    "def run_campaign(templateid,campaignlistid, campaignname):\n",
    "    requestxml = \"\"\"<Envelope><Body>\n",
    "              <ScheduleMailing>\n",
    "              <TEMPLATE_ID>\"\"\"+templateid + \"\"\"</TEMPLATE_ID>\n",
    "              <LIST_ID>\"\"\"+campaignlistid+\"\"\"</LIST_ID>\n",
    "              <MAILING_NAME>\"\"\"+campaignname+\"\"\"</MAILING_NAME>\n",
    "              <SEND_HTML/>\n",
    "              <VISIBILITY>1</VISIBILITY>\n",
    "              </ScheduleMailing>\n",
    "           </Body></Envelope>\"\"\"\n",
    "    print(requestxml)\n",
    "    response = requests.post(xmlapiurl, headers=headers, data = requestxml)\n",
    "    print(response.text)"
   ]
  },
  {
   "cell_type": "markdown",
   "metadata": {},
   "source": [
    "## 4. Find target customers for running campaigns"
   ]
  },
  {
   "cell_type": "markdown",
   "metadata": {},
   "source": [
    "### 4.1 Load customer sales data from Cloud object storage"
   ]
  },
  {
   "cell_type": "code",
   "execution_count": null,
   "metadata": {},
   "outputs": [],
   "source": [
    "body = get_file(credentials_1[\"FILE\"])\n",
    "# add missing __iter__ method, so pandas accepts body as file-like object\n",
    "if not hasattr(body, \"__iter__\"): body.__iter__ = types.MethodType( __iter__, body )\n",
    "salesData = pd.read_csv(body)\n",
    "print(salesData.columns)\n",
    "salesData.head()"
   ]
  },
  {
   "cell_type": "markdown",
   "metadata": {},
   "source": [
    "### 4.2 Prepare data"
   ]
  },
  {
   "cell_type": "code",
   "execution_count": null,
   "metadata": {},
   "outputs": [],
   "source": [
    "# Filter columns \n",
    "temp_data_1 = salesData[['CUSTNAME','CUST_ID','EMAIL_ADDRESS','ORDER_ID','ORDER_DATE','ORDER_VALUE', product]]\n",
    "\n",
    "# Filter rows \n",
    "temp_data_2 = temp_data_1[temp_data_1[product] == 1]\n",
    "\n",
    "\n",
    "# Change the order dates to make it more recent\n",
    "temp_data_2['ORDER_DATE'] = temp_data_2['ORDER_DATE'].apply(lambda x: datetime.datetime.strptime(x, \"%Y-%m-%d %H:%M:%S.000\").date())\n",
    "\n",
    "datemax = max(temp_data_2['ORDER_DATE'])\n",
    "currentdate = datetime.date.today()\n",
    "delta = currentdate - datemax\n",
    "temp_data_2['ORDER_DATE'] = temp_data_2['ORDER_DATE'].apply(lambda x: x+delta)\n",
    "temp_data_2"
   ]
  },
  {
   "cell_type": "markdown",
   "metadata": {},
   "source": [
    "### 4.3 Recency, Frequency and Monetary Value for Customers "
   ]
  },
  {
   "cell_type": "code",
   "execution_count": null,
   "metadata": {},
   "outputs": [],
   "source": [
    "rfm_df = temp_data_2.groupby('CUST_ID').agg({'CUSTNAME': lambda x: x.unique(),'EMAIL_ADDRESS': lambda x: x.unique(),'ORDER_DATE': lambda x: (datetime.date.today() - x.max()).days, 'ORDER_ID': lambda x: len(x), 'ORDER_VALUE': lambda x: x.sum()})\n",
    "\n",
    "rfm_df['ORDER_DATE'] = rfm_df['ORDER_DATE'].astype(int)\n",
    "rfm_df.rename(columns={'ORDER_DATE': 'Recency', \n",
    "                       'ORDER_ID': 'Frequency', \n",
    "                       'ORDER_VALUE': 'Monetary_Value'}, inplace=True)"
   ]
  },
  {
   "cell_type": "markdown",
   "metadata": {},
   "source": [
    "### 4.4 Run the campaign for top 5 customers based on Monetary Value, Frequency and Recency\n",
    "The criteria to run campaigns can be changed based on need"
   ]
  },
  {
   "cell_type": "code",
   "execution_count": null,
   "metadata": {},
   "outputs": [],
   "source": [
    "rfm_df = rfm_df.sort_values(['Monetary_Value','Frequency', 'Recency'], ascending=[0,0,0])\n",
    "top5 = rfm_df.head()\n",
    "top5"
   ]
  },
  {
   "cell_type": "code",
   "execution_count": null,
   "metadata": {},
   "outputs": [],
   "source": [
    "# Configure database id, campaign list id and template id in Sec 3.2\n",
    "for index, row in top5.iterrows():\n",
    "    add_contact(row['EMAIL_ADDRESS'], str(databaseid), str(campaignlistid))\n",
    " \n",
    "run_campaign(str(templateid), str(campaignlistid), \"Offer on canned foods this month!\")"
   ]
  }
 ],
 "metadata": {
  "kernelspec": {
   "display_name": "Python 3.5",
   "language": "python",
   "name": "python3"
  },
  "language_info": {
   "codemirror_mode": {
    "name": "ipython",
    "version": 3
   },
   "file_extension": ".py",
   "mimetype": "text/x-python",
   "name": "python",
   "nbconvert_exporter": "python",
   "pygments_lexer": "ipython3",
   "version": "3.5.4"
  }
 },
 "nbformat": 4,
 "nbformat_minor": 1
}
